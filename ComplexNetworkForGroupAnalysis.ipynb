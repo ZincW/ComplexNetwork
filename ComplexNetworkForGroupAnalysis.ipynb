{
 "cells": [
  {
   "cell_type": "code",
   "execution_count": 133,
   "metadata": {},
   "outputs": [],
   "source": [
    "import scipy as sc\n",
    "from scipy import stats\n",
    "import numpy as np\n",
    "import csv\n",
    "import time\n",
    "import networkx as nx \n",
    "import pandas as pd\n",
    "from collections import defaultdict\n",
    "c2a = np.loadtxt('c2a_small_sub.txt')\n",
    "a2q = np.loadtxt('a2q_small_sub.txt')\n",
    "c2q = np.loadtxt('c2q_small_sub.txt')\n"
   ]
  },
  {
   "cell_type": "code",
   "execution_count": 130,
   "metadata": {},
   "outputs": [],
   "source": [
    "#----------------------------------------------------------#\n",
    "#                     Function Part                        #\n",
    "#----------------------------------------------------------#\n",
    "def create_graph(data):\n",
    "    G = nx.Graph()\n",
    "    edges = data[:,0:2].copy()\n",
    "    G.add_edges_from(edges)\n",
    "    return G\n",
    "def construct_graph(G_c2a,G_a2q,G_c2q):\n",
    "    node_c2a = G_c2a.nodes\n",
    "    node_a2q = G_a2q.nodes\n",
    "    node_c2q = G_c2q.nodes\n",
    "\n",
    "    node = list(node_c2a&node_a2q&node_c2q)\n",
    "\n",
    "    g_c2a = G_c2a.subgraph(node)\n",
    "    g_a2q = G_a2q.subgraph(node)\n",
    "    g_c2q = G_c2q.subgraph(node)\n",
    "    return g_c2a,g_a2q,g_c2q\n",
    "\n",
    "# sis model for constructing group graph            \n",
    "def sis_model(No_duplicate_nodes,orignial_data):\n",
    "    history_dict = rec_dd()\n",
    "    for node in No_duplicate_nodes:\n",
    "        infected_nodes = set([int(node)])\n",
    "        for index, row in orignial_data.iterrows():\n",
    "            if row['i'] in infected_nodes:\n",
    "                infected_nodes.add(row['j'])\n",
    "            elif row['j'] in infected_nodes:\n",
    "                infected_nodes.add(row['i'])\n",
    "        history_dict[row['t']][node] = len(infected_nodes)\n",
    "        print('We have all infected nodes of node:',node)\n",
    "#             df_G2 = DataFrame()\n",
    "        np.save('active_users_dict.npy', history_dict)\n",
    "def rec_dd():\n",
    "    return defaultdict(rec_dd)"
   ]
  },
  {
   "cell_type": "code",
   "execution_count": 118,
   "metadata": {},
   "outputs": [
    {
     "name": "stdout",
     "output_type": "stream",
     "text": [
      "(18965, 3) (4326, 3) (4326, 3) (27683, 3)\n",
      "Combined Graph:number of edges: 5208 /number of nodes: 758 /is connected or not?: True\n",
      "Graph:c2a number of edges: 2557 /number of nodes: 657 /is connected or not?: False\n",
      "Graph:a2q number of edges: 2716 /number of nodes: 657 /is connected or not?: False\n",
      "Graph:c2q number of edges: 1355 /number of nodes: 657 /is connected or not?: False\n",
      "Connected Graph:number of edges: 5208 /number of nodes: 758 /is connected or not?: True\n"
     ]
    }
   ],
   "source": [
    "#----------------------------------------------------------#\n",
    "#      Construct 1500-nodes Completed Network              #\n",
    "#----------------------------------------------------------#\n",
    "Total_1500_nodes = np.concatenate((c2a, a2q), axis=0)\n",
    "Total_1500_nodes = np.concatenate((Total_1500_nodes,c2q),axis=0)\n",
    "print(c2a.shape,c2q.shape, c2q.shape,Total_1500_nodes.shape, )\n",
    "total_network = create_graph(Total_1500_nodes)\n",
    "c2a_graph = create_graph(c2a)\n",
    "a2q_graph = create_graph(a2q)\n",
    "c2q_graph = create_graph(c2q)\n",
    "# to get common nodes for each layer\n",
    "g_c2a, g_a2q, g_c2q = construct_graph(c2a_graph,a2q_graph,c2q_graph)\n",
    "\n",
    "print('Combined Graph:''number of edges:',total_network.number_of_edges(),'/number of nodes:',total_network.number_of_nodes(),'/is connected or not?:',nx.is_connected(total_network))\n",
    "print('Graph:c2a','number of edges:',g_c2a.number_of_edges(),'/number of nodes:',g_c2a.number_of_nodes(),'/is connected or not?:',nx.is_connected(g_c2a))\n",
    "print('Graph:a2q','number of edges:',g_a2q.number_of_edges(),'/number of nodes:',g_a2q.number_of_nodes(),'/is connected or not?:',nx.is_connected(g_a2q))\n",
    "print('Graph:c2q','number of edges:',g_c2q.number_of_edges(),'/number of nodes:',g_c2q.number_of_nodes(),'/is connected or not?:',nx.is_connected(g_c2q))\n",
    "\n",
    "connected_graph = max(nx.connected_component_subgraphs(total_network), key=len)\n",
    "print('Connected Graph:''number of edges:',connected_graph.number_of_edges(),'/number of nodes:',connected_graph.number_of_nodes(),'/is connected or not?:',nx.is_connected(connected_graph))\n",
    "\n"
   ]
  },
  {
   "cell_type": "code",
   "execution_count": 119,
   "metadata": {},
   "outputs": [],
   "source": [
    "#----------------------------------------------------------#\n",
    "#                Choose One Centrality                     #\n",
    "#----------------------------------------------------------#\n",
    "betweenness = nx.betweenness_centrality(connected_graph)\n",
    "closeness = nx.closeness_centrality(connected_graph)\n",
    "#----------------------------------------------------------#\n",
    "#      Rank Centrality to Seperate 3 Groups                #\n",
    "#----------------------------------------------------------#\n",
    "sorted_betweeness = sorted(betweenness.items(), key=operator.itemgetter(1))\n",
    "sorted_closeness = sorted(closeness.items(), key=operator.itemgetter(1))"
   ]
  },
  {
   "cell_type": "code",
   "execution_count": 121,
   "metadata": {},
   "outputs": [],
   "source": [
    "# print(sorted_closeness)\n",
    "# active users:23283,33213,54964,6309,20860\n",
    "# normal users:19884,18091,65584,59546,105148\n",
    "# inactive users:69401,104707,162154,152286,113682"
   ]
  },
  {
   "cell_type": "code",
   "execution_count": 189,
   "metadata": {},
   "outputs": [],
   "source": [
    "#----------------------------------------------------------#\n",
    "#                   Processing Timestamp                   #\n",
    "#----------------------------------------------------------#\n",
    "sorted_timestamp = sorted(Total_1500_nodes, key=lambda entry: entry[2])\n",
    "timestamp_sorted_data = pd.DataFrame(sorted_timestamp)\n",
    "# df[list(\"ABCD\")] = df[list(\"ABCD\")].astype(int)\n",
    "lower_quantile, lower_medium_quantile,upper_medium_quantile,upper_quantile = timestamp_sorted_data[2].quantile([.25, .50,.75,1])\n",
    "# print(lower_quantile,lower_medium_quantile,upper_medium_quantile,upper_quantile)\n",
    "temp1 = timestamp_sorted_data.iloc[:6920, :]\n",
    "temp2 = timestamp_sorted_data.iloc[6921:13840, :]\n",
    "temp3 = timestamp_sorted_data.iloc[13841:20760, :]\n",
    "temp4 = timestamp_sorted_data.iloc[20761:27683, :]\n",
    "temp1_graph = create_graph(temp1.values)\n",
    "temp2_graph = create_graph(temp2.values)\n",
    "temp3_graph = create_graph(temp3.values)\n",
    "temp4_graph = create_graph(temp4.values)\n",
    "\n",
    "# print(temp3)"
   ]
  },
  {
   "cell_type": "code",
   "execution_count": 157,
   "metadata": {},
   "outputs": [
    {
     "name": "stdout",
     "output_type": "stream",
     "text": [
      "acitve_users_graph:number of edges: 11 /number of nodes: 5 /is connected or not?: True\n",
      "normal_users_graph:number of edges: 5 /number of nodes: 5 /is connected or not?: False\n",
      "inactive_users_graph:number of edges: 3 /number of nodes: 5 /is connected or not?: False\n"
     ]
    }
   ],
   "source": [
    "#----------------------------------------------------------#\n",
    "#    3 groups subgraph and temporal networks over time     #\n",
    "#----------------------------------------------------------#\n",
    "active_users_set = [23283,33213,54964,6309,20860]\n",
    "normal_users_set = [19884,18091,65584,59546,105148]\n",
    "inactive_users_set = [69401,104707,162154,152286,113682]\n",
    "acitve_users_graph =connected_graph.subgraph(active_users_set)\n",
    "normal_users_graph =connected_graph.subgraph(normal_users_set)\n",
    "inactive_users_graph =connected_graph.subgraph(inactive_users_set)\n",
    "\n",
    "print('acitve_users_graph:''number of edges:',acitve_users_graph.number_of_edges(),'/number of nodes:',acitve_users_graph.number_of_nodes(),'/is connected or not?:',nx.is_connected(acitve_users_graph))\n",
    "print('normal_users_graph:''number of edges:',normal_users_graph.number_of_edges(),'/number of nodes:',normal_users_graph.number_of_nodes(),'/is connected or not?:',nx.is_connected(normal_users_graph))\n",
    "print('inactive_users_graph:''number of edges:',inactive_users_graph.number_of_edges(),'/number of nodes:',inactive_users_graph.number_of_nodes(),'/is connected or not?:',nx.is_connected(inactive_users_graph))"
   ]
  },
  {
   "cell_type": "code",
   "execution_count": 190,
   "metadata": {},
   "outputs": [
    {
     "ename": "NetworkXError",
     "evalue": "The node 65584 is not in the graph.",
     "output_type": "error",
     "traceback": [
      "\u001b[1;31m---------------------------------------------------------------------------\u001b[0m",
      "\u001b[1;31mKeyError\u001b[0m                                  Traceback (most recent call last)",
      "\u001b[1;32m~\\Anaconda3\\lib\\site-packages\\networkx\\classes\\graph.py\u001b[0m in \u001b[0;36mneighbors\u001b[1;34m(self, n)\u001b[0m\n\u001b[0;32m   1127\u001b[0m         \u001b[1;32mtry\u001b[0m\u001b[1;33m:\u001b[0m\u001b[1;33m\u001b[0m\u001b[0m\n\u001b[1;32m-> 1128\u001b[1;33m             \u001b[1;32mreturn\u001b[0m \u001b[0miter\u001b[0m\u001b[1;33m(\u001b[0m\u001b[0mself\u001b[0m\u001b[1;33m.\u001b[0m\u001b[0m_adj\u001b[0m\u001b[1;33m[\u001b[0m\u001b[0mn\u001b[0m\u001b[1;33m]\u001b[0m\u001b[1;33m)\u001b[0m\u001b[1;33m\u001b[0m\u001b[0m\n\u001b[0m\u001b[0;32m   1129\u001b[0m         \u001b[1;32mexcept\u001b[0m \u001b[0mKeyError\u001b[0m\u001b[1;33m:\u001b[0m\u001b[1;33m\u001b[0m\u001b[0m\n",
      "\u001b[1;31mKeyError\u001b[0m: 65584",
      "\nDuring handling of the above exception, another exception occurred:\n",
      "\u001b[1;31mNetworkXError\u001b[0m                             Traceback (most recent call last)",
      "\u001b[1;32m<ipython-input-190-d79fb95789ea>\u001b[0m in \u001b[0;36m<module>\u001b[1;34m()\u001b[0m\n\u001b[0;32m      6\u001b[0m     \u001b[0mactive_users_neighbors1\u001b[0m \u001b[1;33m=\u001b[0m \u001b[0mlist\u001b[0m\u001b[1;33m(\u001b[0m\u001b[0mnx\u001b[0m\u001b[1;33m.\u001b[0m\u001b[0mall_neighbors\u001b[0m\u001b[1;33m(\u001b[0m\u001b[0mtemporal_network\u001b[0m\u001b[1;33m,\u001b[0m \u001b[0mnode\u001b[0m\u001b[1;33m)\u001b[0m\u001b[1;33m)\u001b[0m\u001b[1;33m\u001b[0m\u001b[0m\n\u001b[0;32m      7\u001b[0m \u001b[1;32mfor\u001b[0m \u001b[0mi\u001b[0m\u001b[1;33m,\u001b[0m \u001b[0mnode\u001b[0m \u001b[1;32min\u001b[0m \u001b[0menumerate\u001b[0m\u001b[1;33m(\u001b[0m\u001b[0mnormal_users_set\u001b[0m\u001b[1;33m)\u001b[0m\u001b[1;33m:\u001b[0m\u001b[1;33m\u001b[0m\u001b[0m\n\u001b[1;32m----> 8\u001b[1;33m     \u001b[0mnormal_users_neighbors1\u001b[0m \u001b[1;33m=\u001b[0m \u001b[0mlist\u001b[0m\u001b[1;33m(\u001b[0m\u001b[0mnx\u001b[0m\u001b[1;33m.\u001b[0m\u001b[0mall_neighbors\u001b[0m\u001b[1;33m(\u001b[0m\u001b[0mtemporal_network\u001b[0m\u001b[1;33m,\u001b[0m \u001b[0mnode\u001b[0m\u001b[1;33m)\u001b[0m\u001b[1;33m)\u001b[0m\u001b[1;33m\u001b[0m\u001b[0m\n\u001b[0m\u001b[0;32m      9\u001b[0m \u001b[1;32mfor\u001b[0m \u001b[0mi\u001b[0m\u001b[1;33m,\u001b[0m \u001b[0mnode\u001b[0m \u001b[1;32min\u001b[0m \u001b[0menumerate\u001b[0m\u001b[1;33m(\u001b[0m\u001b[0minactive_users_set\u001b[0m\u001b[1;33m)\u001b[0m\u001b[1;33m:\u001b[0m\u001b[1;33m\u001b[0m\u001b[0m\n\u001b[0;32m     10\u001b[0m     \u001b[0minactive_users_neighbors1\u001b[0m \u001b[1;33m=\u001b[0m \u001b[0mlist\u001b[0m\u001b[1;33m(\u001b[0m\u001b[0mnx\u001b[0m\u001b[1;33m.\u001b[0m\u001b[0mall_neighbors\u001b[0m\u001b[1;33m(\u001b[0m\u001b[0mtemporal_network\u001b[0m\u001b[1;33m,\u001b[0m \u001b[0mnode\u001b[0m\u001b[1;33m)\u001b[0m\u001b[1;33m)\u001b[0m\u001b[1;33m\u001b[0m\u001b[0m\n",
      "\u001b[1;32m~\\Anaconda3\\lib\\site-packages\\networkx\\classes\\function.py\u001b[0m in \u001b[0;36mall_neighbors\u001b[1;34m(graph, node)\u001b[0m\n\u001b[0;32m    836\u001b[0m         \u001b[0mvalues\u001b[0m \u001b[1;33m=\u001b[0m \u001b[0mchain\u001b[0m\u001b[1;33m(\u001b[0m\u001b[0mgraph\u001b[0m\u001b[1;33m.\u001b[0m\u001b[0mpredecessors\u001b[0m\u001b[1;33m(\u001b[0m\u001b[0mnode\u001b[0m\u001b[1;33m)\u001b[0m\u001b[1;33m,\u001b[0m \u001b[0mgraph\u001b[0m\u001b[1;33m.\u001b[0m\u001b[0msuccessors\u001b[0m\u001b[1;33m(\u001b[0m\u001b[0mnode\u001b[0m\u001b[1;33m)\u001b[0m\u001b[1;33m)\u001b[0m\u001b[1;33m\u001b[0m\u001b[0m\n\u001b[0;32m    837\u001b[0m     \u001b[1;32melse\u001b[0m\u001b[1;33m:\u001b[0m\u001b[1;33m\u001b[0m\u001b[0m\n\u001b[1;32m--> 838\u001b[1;33m         \u001b[0mvalues\u001b[0m \u001b[1;33m=\u001b[0m \u001b[0mgraph\u001b[0m\u001b[1;33m.\u001b[0m\u001b[0mneighbors\u001b[0m\u001b[1;33m(\u001b[0m\u001b[0mnode\u001b[0m\u001b[1;33m)\u001b[0m\u001b[1;33m\u001b[0m\u001b[0m\n\u001b[0m\u001b[0;32m    839\u001b[0m     \u001b[1;32mreturn\u001b[0m \u001b[0mvalues\u001b[0m\u001b[1;33m\u001b[0m\u001b[0m\n\u001b[0;32m    840\u001b[0m \u001b[1;33m\u001b[0m\u001b[0m\n",
      "\u001b[1;32m~\\Anaconda3\\lib\\site-packages\\networkx\\classes\\graph.py\u001b[0m in \u001b[0;36mneighbors\u001b[1;34m(self, n)\u001b[0m\n\u001b[0;32m   1128\u001b[0m             \u001b[1;32mreturn\u001b[0m \u001b[0miter\u001b[0m\u001b[1;33m(\u001b[0m\u001b[0mself\u001b[0m\u001b[1;33m.\u001b[0m\u001b[0m_adj\u001b[0m\u001b[1;33m[\u001b[0m\u001b[0mn\u001b[0m\u001b[1;33m]\u001b[0m\u001b[1;33m)\u001b[0m\u001b[1;33m\u001b[0m\u001b[0m\n\u001b[0;32m   1129\u001b[0m         \u001b[1;32mexcept\u001b[0m \u001b[0mKeyError\u001b[0m\u001b[1;33m:\u001b[0m\u001b[1;33m\u001b[0m\u001b[0m\n\u001b[1;32m-> 1130\u001b[1;33m             \u001b[1;32mraise\u001b[0m \u001b[0mNetworkXError\u001b[0m\u001b[1;33m(\u001b[0m\u001b[1;34m\"The node %s is not in the graph.\"\u001b[0m \u001b[1;33m%\u001b[0m \u001b[1;33m(\u001b[0m\u001b[0mn\u001b[0m\u001b[1;33m,\u001b[0m\u001b[1;33m)\u001b[0m\u001b[1;33m)\u001b[0m\u001b[1;33m\u001b[0m\u001b[0m\n\u001b[0m\u001b[0;32m   1131\u001b[0m \u001b[1;33m\u001b[0m\u001b[0m\n\u001b[0;32m   1132\u001b[0m     \u001b[1;33m@\u001b[0m\u001b[0mproperty\u001b[0m\u001b[1;33m\u001b[0m\u001b[0m\n",
      "\u001b[1;31mNetworkXError\u001b[0m: The node 65584 is not in the graph."
     ]
    }
   ],
   "source": [
    "#----------------------------------------------------------#\n",
    "#               For 1 HOP                                  #\n",
    "#----------------------------------------------------------#\n",
    "for j in range(1,4):\n",
    "    temporal_network = temp1_graph\n",
    "        for i, node in enumerate(active_users_set):\n",
    "            active_users_neighbors[j] = list(nx.all_neighbors(temporal_network, node))\n",
    "        for i, node in enumerate(normal_users_set):\n",
    "            normal_users_neighbors[j] = list(nx.all_neighbors(temporal_network, node))\n",
    "        for i, node in enumerate(inactive_users_set):\n",
    "            inactive_users_neighbors[j] = list(nx.all_neighbors(temporal_network, node))"
   ]
  },
  {
   "cell_type": "code",
   "execution_count": 159,
   "metadata": {},
   "outputs": [],
   "source": [
    "#----------------------------------------------------------#\n",
    "#               For 2 HOP                                  #\n",
    "#----------------------------------------------------------#"
   ]
  },
  {
   "cell_type": "code",
   "execution_count": null,
   "metadata": {},
   "outputs": [],
   "source": []
  }
 ],
 "metadata": {
  "kernelspec": {
   "display_name": "Python 3",
   "language": "python",
   "name": "python3"
  },
  "language_info": {
   "codemirror_mode": {
    "name": "ipython",
    "version": 3
   },
   "file_extension": ".py",
   "mimetype": "text/x-python",
   "name": "python",
   "nbconvert_exporter": "python",
   "pygments_lexer": "ipython3",
   "version": "3.6.4"
  }
 },
 "nbformat": 4,
 "nbformat_minor": 2
}
